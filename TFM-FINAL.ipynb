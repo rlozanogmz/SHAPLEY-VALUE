{
 "cells": [
  {
   "cell_type": "markdown",
   "id": "9682e8c8-e8cc-4704-81f0-ac174c383bba",
   "metadata": {},
   "source": [
    "#### TFM Raquel Lozano Gómez - Máster en Economía (Universidad de Vigo)"
   ]
  },
  {
   "cell_type": "markdown",
   "id": "d229847b-6ab9-4dfe-bbac-536b8acd70ab",
   "metadata": {},
   "source": [
    "## Simulación"
   ]
  },
  {
   "cell_type": "code",
   "execution_count": 1,
   "id": "bf98256a-2b6d-45fd-84e7-450f44d4ced6",
   "metadata": {},
   "outputs": [],
   "source": [
    "# Importación de librerías\n",
    "import numpy as np\n",
    "import matplotlib.pyplot as plt\n",
    "import matplotlib as mpl\n",
    "import itertools\n",
    "from itertools import combinations\n",
    "from itertools import permutations\n",
    "from collections import defaultdict\n",
    "from math import factorial\n",
    "from scipy.optimize import minimize"
   ]
  },
  {
   "cell_type": "markdown",
   "id": "536cd244-ad21-4ab1-bc52-7eb75809e832",
   "metadata": {},
   "source": [
    "Para ilustrar cómo una transformación cardinal deriva en alteraciones del valor de Shapley aún manteniendo constantes las preferencias ordinales, se simula el cálculo del equilibrio de Nash y del valor de Shapley bajo distintos supuestos de utilidad. "
   ]
  },
  {
   "cell_type": "markdown",
   "id": "65ec547e-5381-46e3-b977-87a8c8d735f1",
   "metadata": {},
   "source": [
    "### Ejemplo 1. Valor de Shapley vs. Equilibrio de Nash"
   ]
  },
  {
   "cell_type": "markdown",
   "id": "4fc08bfa-545f-42a1-8228-5cf2082afb89",
   "metadata": {},
   "source": [
    "#### Valor de Shapley"
   ]
  },
  {
   "cell_type": "markdown",
   "id": "cb2d7dc4-a540-4ab0-805c-6e23c0665063",
   "metadata": {},
   "source": [
    "Para empezar, se define el conjunto finito de jugadores en $ N = \\{1, \\dots, n\\}$ y se generan todas las posibles coaliciones."
   ]
  },
  {
   "cell_type": "code",
   "execution_count": 11,
   "id": "5a5a3337-c737-47c1-aef5-6b336a0799d9",
   "metadata": {},
   "outputs": [
    {
     "name": "stdin",
     "output_type": "stream",
     "text": [
      "Número de jugadores:  2\n",
      "Nombre del jugador 1:  1\n",
      "Nombre del jugador 2:  2\n"
     ]
    }
   ],
   "source": [
    "# Número de jugadores\n",
    "n = int(input(\"Número de jugadores: \"))\n",
    "players = sorted([input(f\"Nombre del jugador {i+1}: \").strip() for i in range(n)])\n",
    "#player1, player2, player3 = players"
   ]
  },
  {
   "cell_type": "code",
   "execution_count": 12,
   "id": "b7f9a8da-6e28-4623-bcee-58cadff9cbcf",
   "metadata": {},
   "outputs": [],
   "source": [
    "# Coaliciones posibles\n",
    "def all_coalitions(players):\n",
    "    return [frozenset(c) for r in range(len(players) + 1) \n",
    "            for c in combinations(players, r)]\n",
    "coalitions = all_coalitions(players)"
   ]
  },
  {
   "cell_type": "markdown",
   "id": "e3d6aedc-0ef7-4515-b7e9-f39eb179bb1d",
   "metadata": {},
   "source": [
    "Dada una función de utilidad característica $v: 2^N \\rightarrow \\mathbb{R}$, se introducen manualmente los valores de utilidad $v(S)$ correspondientes a cada coalición, distinguiendo entre distintas funciones de utilidad sobre las que se aplican transformaciones monótonas. A posteriori, se calcula el valor de Shapley para cada jugador definido según la ecuación característica $$\\phi_j(v) = \\sum_{S \\subseteq N \\,:\\, j \\in S} \\frac{(|S| - 1)! \\cdot (n - |S|)!}{n!} \\left[ v(S) - v(S - \\{j\\}) \\right],$$ iterando sobre todos los subconjuntos posibles."
   ]
  },
  {
   "cell_type": "code",
   "execution_count": 13,
   "id": "cb03d353-cc8c-4ffe-8183-20d0ab113cb4",
   "metadata": {},
   "outputs": [
    {
     "name": "stdin",
     "output_type": "stream",
     "text": [
      "\n",
      "Número de funciones de utilidad:  2\n",
      "\n",
      "Nombre para la función de utilidad #1:  og\n"
     ]
    },
    {
     "name": "stdout",
     "output_type": "stream",
     "text": [
      "\n",
      "Valores para la función de utilidad 'og'\n"
     ]
    },
    {
     "name": "stdin",
     "output_type": "stream",
     "text": [
      "Valor de v({}):  0\n",
      "Valor de v({1}):  10\n",
      "Valor de v({2}):  20\n",
      "Valor de v({1,2}):  35\n",
      "\n",
      "Nombre para la función de utilidad #2:  alt\n"
     ]
    },
    {
     "name": "stdout",
     "output_type": "stream",
     "text": [
      "\n",
      "Valores para la función de utilidad 'alt'\n"
     ]
    },
    {
     "name": "stdin",
     "output_type": "stream",
     "text": [
      "Valor de v({}):  0\n",
      "Valor de v({1}):  20\n",
      "Valor de v({2}):  40\n",
      "Valor de v({1,2}):  70\n"
     ]
    }
   ],
   "source": [
    "# Funciones de utilidad\n",
    "utility_functions = {}\n",
    "num_functions = int(input(\"\\nNúmero de funciones de utilidad: \"))\n",
    "\n",
    "for k in range(num_functions):\n",
    "    fname = input(f\"\\nNombre para la función de utilidad #{k+1}: \").strip()\n",
    "    print(f\"\\nValores para la función de utilidad '{fname}'\")\n",
    "    v = {}\n",
    "    for coalition in coalitions:\n",
    "        sorted_names = \",\".join(sorted(coalition))\n",
    "        label = f\"{{{sorted_names}}}\"\n",
    "        val_str = input(f\"Valor de v({label}): \")\n",
    "        val = float(val_str) if val_str else 0.0\n",
    "        v[coalition] = val\n",
    "    utility_functions[fname] = v"
   ]
  },
  {
   "cell_type": "code",
   "execution_count": 14,
   "id": "a32cb15a-5bc0-44b9-a169-d2b4861b1760",
   "metadata": {},
   "outputs": [],
   "source": [
    "# Valor de Shapley \n",
    "def shapley_value(players, v):\n",
    "    n = len(players)\n",
    "    phi = dict.fromkeys(players, 0.0)\n",
    "    for i in players:\n",
    "        for S in coalitions:\n",
    "            if i not in S:\n",
    "                S_with_i = S | {i}\n",
    "                s = len(S)\n",
    "                coef = factorial(s) * factorial(n - s - 1) / factorial(n)\n",
    "                phi[i] += coef * (v[S_with_i] - v.get(S, 0))\n",
    "    return phi"
   ]
  },
  {
   "cell_type": "markdown",
   "id": "1055928b-9389-47a3-b153-ed5f3a469ffa",
   "metadata": {},
   "source": [
    "Finalmente, se visualizan los resultados obtenidos para cada una de las funciones de utilidad consideradas."
   ]
  },
  {
   "cell_type": "code",
   "execution_count": 15,
   "id": "ed426586-406e-4258-b07f-a915fe6756b3",
   "metadata": {},
   "outputs": [
    {
     "name": "stdout",
     "output_type": "stream",
     "text": [
      "\n",
      "Valor de Shapley para la función 'og'\n",
      "1: 12.5\n",
      "2: 22.5\n",
      "\n",
      "Valor de Shapley para la función 'alt'\n",
      "1: 25.0\n",
      "2: 45.0\n"
     ]
    }
   ],
   "source": [
    "# Resultados \n",
    "for fname, v in utility_functions.items():\n",
    "    print(f\"\\nValor de Shapley para la función '{fname}'\")\n",
    "    shapley = shapley_value(players, v)\n",
    "    for player, phi in shapley.items():\n",
    "        print(f\"{player}: {round(phi, 3)}\")"
   ]
  },
  {
   "cell_type": "markdown",
   "id": "736b85aa-7626-4d89-adab-ab0314fc7afa",
   "metadata": {},
   "source": [
    "#### Equilibrio de Nash"
   ]
  },
  {
   "cell_type": "markdown",
   "id": "eb3575c0-3517-472f-bffe-e4a3962cf682",
   "metadata": {},
   "source": [
    "A partir de los valores del juego cooperativo contenidos en la función característica $v(S)$ se\n",
    "pueden representar dos juegos en forma normal para calcular los equilibrios de Nash en estrategias\n",
    "puras."
   ]
  },
  {
   "cell_type": "code",
   "execution_count": 8,
   "id": "b4b35dd1-d380-443a-924b-3e43d1529c92",
   "metadata": {},
   "outputs": [],
   "source": [
    "# Equilibrio de Nash\n",
    "def find_nash_eq(A, B):\n",
    "    num_rows, num_cols = A.shape\n",
    "    equilibrios = []\n",
    "\n",
    "    for i in range(num_rows):\n",
    "        for j in range(num_cols):\n",
    "            a_ij = A[i, j]\n",
    "            b_ij = B[i, j]\n",
    "            # Verifica si A[i,j] es el mejor de su fila para jugador 1\n",
    "            if a_ij >= A[i, :].max():\n",
    "                # Verifica si B[i,j] es el mejor de su columna para jugador 2\n",
    "                if b_ij >= B[:, j].max():\n",
    "                    # Filtra perfiles donde ambos pagos son 0\n",
    "                    if a_ij > 0 or b_ij > 0:\n",
    "                        equilibrios.append((i, j))\n",
    "\n",
    "    return equilibrios"
   ]
  },
  {
   "cell_type": "markdown",
   "id": "4aee04f0-dc04-4d30-99ee-bd6dcfb991cb",
   "metadata": {},
   "source": [
    "Dentro del conjunto de funciones de utilidad disponibles, se selecciona una de ellas para así\n",
    "construir la matriz de pagos del juego."
   ]
  },
  {
   "cell_type": "code",
   "execution_count": 9,
   "id": "059c286b-cbe4-4f45-ac12-dd8b8e07e4e9",
   "metadata": {},
   "outputs": [
    {
     "name": "stdout",
     "output_type": "stream",
     "text": [
      "\n",
      "Funciones de utilidad disponibles:\n",
      " - original\n",
      " - alternativa\n"
     ]
    },
    {
     "name": "stdin",
     "output_type": "stream",
     "text": [
      "\n",
      "Función de utilidad a emplear:  original\n"
     ]
    }
   ],
   "source": [
    "# Selección función de utilidad a emplear\n",
    "print(\"\\nFunciones de utilidad disponibles:\")\n",
    "for name in utility_functions:\n",
    "    print(f\" - {name}\")\n",
    "\n",
    "selected_fname = input(\"\\nFunción de utilidad a emplear: \").strip()\n",
    "while selected_fname not in utility_functions:\n",
    "    selected_fname = input(\"Nombre no válido. Introduce uno de los anteriores: \").strip()\n",
    "v = utility_functions[selected_fname]"
   ]
  },
  {
   "cell_type": "markdown",
   "id": "e832c4c8-8d38-4e96-b0d6-0a77b4d9221d",
   "metadata": {},
   "source": [
    "En base a dicha función $v(S)$, se construyen dos matrices A y B, que representan los pagos\n",
    "del jugador 1 y del jugador 2, respectivamente. Cada entrada de estas matrices se interpreta en\n",
    "función de la coalición resultante de las acciones individuales:"
   ]
  },
  {
   "cell_type": "code",
   "execution_count": 9,
   "id": "36457403-325b-4343-af36-3af22e05e58e",
   "metadata": {},
   "outputs": [],
   "source": [
    "# Pagos para el jugador 1\n",
    "a11 = v[frozenset({'i', 'j'})] \n",
    "a12 = v[frozenset({'i'})]      \n",
    "a21 = v[frozenset()]       \n",
    "a22 = v[frozenset()]            \n",
    "\n",
    "# Pagos para el jugador 2 \n",
    "b11 = v[frozenset({'i', 'j'})]\n",
    "b12 = v[frozenset()]\n",
    "b21 = v[frozenset({'j'})]\n",
    "b22 = v[frozenset()]"
   ]
  },
  {
   "cell_type": "code",
   "execution_count": 10,
   "id": "310fedb1-7696-476c-88b1-91c6f9e2d415",
   "metadata": {},
   "outputs": [],
   "source": [
    "# Matriz de pagos\n",
    "A = np.array([[a11, a12],\n",
    "              [a21, a22]])\n",
    "\n",
    "B = np.array([[b11, b12],\n",
    "              [b21, b22]])"
   ]
  },
  {
   "cell_type": "markdown",
   "id": "ad8b1c7a-9da0-4eee-922f-8dc7789a3e2b",
   "metadata": {},
   "source": [
    "De la función computacional que explora todas las combinaciones posibles de estrategias puras,\n",
    "se calcula el equilibrio de Nash en estrategias puras."
   ]
  },
  {
   "cell_type": "code",
   "execution_count": 11,
   "id": "138cddeb-b04a-4cb7-b33c-4470363addfb",
   "metadata": {},
   "outputs": [
    {
     "name": "stdout",
     "output_type": "stream",
     "text": [
      "Equilibrios de Nash en estrategias puras: [(0, 0)]\n",
      "Pagos en el equilibrio: (40.0, 40.0)\n"
     ]
    }
   ],
   "source": [
    "# Resultado\n",
    "equilibrios_puros = find_nash_eq(A, B)\n",
    "print(\"Equilibrios de Nash en estrategias puras:\", equilibrios_puros)\n",
    "for (i, j) in equilibrios_puros:\n",
    "    print(\"Pagos en el equilibrio:\", (A[i, j], B[i, j]))"
   ]
  },
  {
   "cell_type": "markdown",
   "id": "eae5778f-a4e8-4c30-8257-732fe6b5d80b",
   "metadata": {},
   "source": [
    "Por último, se representa el juego en el que cada celda contiene los pagos individuales de ambos\n",
    "jugadores para la combinación de estrategias correspondiente."
   ]
  },
  {
   "cell_type": "code",
   "execution_count": 12,
   "id": "a43847b0-34bc-4008-97ca-5617bccc9923",
   "metadata": {},
   "outputs": [
    {
     "data": {
      "image/png": "[encoded data removed]",
      "text/plain": [
       "<Figure size 600x600 with 1 Axes>"
      ]
     },
     "metadata": {},
     "output_type": "display_data"
    }
   ],
   "source": [
    "# Gráfica\n",
    "fig, ax = plt.subplots(figsize=(6, 6))\n",
    "combined = A + B\n",
    "im = ax.imshow(combined, cmap=\"GnBu\", alpha=0.3)\n",
    "\n",
    "# Pagos (A[i,j], B[i,j]) dentro de cada celda\n",
    "for i in range(A.shape[0]):\n",
    "    for j in range(A.shape[1]):\n",
    "        ax.text(j, i - 0.15, f\"A: {A[i, j]}\", ha='center', va='center', fontsize=9, color='black')\n",
    "        ax.text(j, i + 0.15, f\"B: {B[i, j]}\", ha='center', va='center', fontsize=9, color='black')\n",
    "\n",
    "# Equilibrio\n",
    "for idx, (i, j) in enumerate(equilibrios_puros):\n",
    "    ax.plot(j, i, 'ro', markersize=14, label='Equilibrio de Nash' if idx == 0 else \"\")\n",
    "\n",
    "ax.set_xticks(np.arange(A.shape[1]))\n",
    "ax.set_yticks(np.arange(A.shape[0]))\n",
    "ax.set_xticklabels([f\"C{j}\" for j in range(A.shape[1])])\n",
    "ax.set_yticklabels([f\"R{i}\" for i in range(A.shape[0])])\n",
    "ax.set_title(\"Equilibrios de Nash en estrategias puras\", fontsize=14, pad=15)\n",
    "ax.grid(False)\n",
    "ax.legend(loc='upper left', fontsize=10)\n",
    "ax.set_xlabel(player2, fontsize=12)\n",
    "ax.set_ylabel(player1, fontsize=12)\n",
    "\n",
    "plt.tight_layout()\n",
    "plt.show()"
   ]
  },
  {
   "cell_type": "markdown",
   "id": "33e15967-5bdf-473f-acaf-ec6c970a5f11",
   "metadata": {},
   "source": [
    "La nueva distribución de pagos entre $\\phi(v_1)$ y $\\phi(v_2)$, pese a que las preferencias ordinales sean idénticas, confirma que el valor de Shapley no es invariante ante transformaciones monótonas de utilidad."
   ]
  },
  {
   "cell_type": "markdown",
   "id": "d4bc169a-7c52-4bab-8da2-71ee18a0d1b0",
   "metadata": {},
   "source": [
    "### Ejemplo 2. Valor de Shapley - Asignación Valor"
   ]
  },
  {
   "cell_type": "markdown",
   "id": "6407fe7a-5095-4c2e-b9b6-1f05bb237515",
   "metadata": {},
   "source": [
    "Supóngase una economía $E$ con dos jugadores $j \\in \\{1, 2\\}$ en la cual las dotaciones iniciales de cada individuo son $w_1 = (1, 10)$, $w_2 = (4, 5)$. Sus utilidades vienen definidas por las funciones $u_1(x, y) = xy$ y $u_2(x, y) = \\sqrt{2x + y}$."
   ]
  },
  {
   "cell_type": "markdown",
   "id": "7d9074a3-00e9-4a4b-96dc-86763a8b4e0a",
   "metadata": {},
   "source": [
    "Para empezar, se definen tanto las dotaciones como las funciones de utilidad para el conjunto finito de jugadores $N = \\{1, 2\\}$."
   ]
  },
  {
   "cell_type": "code",
   "execution_count": 17,
   "id": "dc250ce9-36d7-4a21-baf9-5597b8e319be",
   "metadata": {},
   "outputs": [],
   "source": [
    "# Dotaciones iniciales\n",
    "endowments = {\n",
    "    1: (1, 10),\n",
    "    2: (4, 5)\n",
    "}"
   ]
  },
  {
   "cell_type": "code",
   "execution_count": 18,
   "id": "36d95755-f2dd-45f3-9fa7-865dd5bd3d0d",
   "metadata": {},
   "outputs": [],
   "source": [
    "# Funciones de utilidad\n",
    "def u1(x, y):\n",
    "    return x * y\n",
    "\n",
    "def u2(x, y):\n",
    "    return np.sqrt(2 * x + y)\n",
    "\n",
    "utilities = {1: u1, 2: u2}"
   ]
  },
  {
   "cell_type": "markdown",
   "id": "191aad22-2a51-4364-8529-bfa929ccd1e5",
   "metadata": {},
   "source": [
    "A posteriori, se generan todas las posibles coaliciones $S \\subseteq N$, y se calcula el valor asociado $v(S)$ a cada una de las funciones de utilidad. Por un lado, se evalúan las dotaciones iniciales en cada una de las funciones de utilidad para las coaliciones unipersonales $v(\\{j\\})$."
   ]
  },
  {
   "cell_type": "code",
   "execution_count": 19,
   "id": "742a7a74-fa29-4a19-aa7d-7df5423d3dab",
   "metadata": {},
   "outputs": [],
   "source": [
    "# Cálculo v({j})\n",
    "def individual_value(agent):\n",
    "    x, y = endowments[agent]\n",
    "    return utilities[agent](x, y)"
   ]
  },
  {
   "cell_type": "markdown",
   "id": "93020a7d-3778-43fa-998c-365c16a50865",
   "metadata": {},
   "source": [
    "Por otro lado, $v(\\{N\\})$ = $v(\\{1,2\\})$ se obtiene resolviendo numéricamente el problema de maximización de la asignación de valor:\n",
    "$v(S) = \\max \\left\\{ \\sum_{j \\in S} u_j(x_j) \\;\\middle|\\; \\sum_{j \\in S} x_j \\leq \\sum_{j \\in S} \\omega_j \\right\\}$"
   ]
  },
  {
   "cell_type": "code",
   "execution_count": 20,
   "id": "11778d2a-fa23-4768-b6bd-9638d53965f6",
   "metadata": {},
   "outputs": [],
   "source": [
    "# Cálculo v({1,2}) mediante un problema de maximización\n",
    "def coalition_value(coalition):\n",
    "    total_x = sum(endowments[i][0] for i in coalition)\n",
    "    total_y = sum(endowments[i][1] for i in coalition)\n",
    "    n = len(coalition)\n",
    "\n",
    "    def objective(allocation):\n",
    "        ut = 0\n",
    "        for i, agent in enumerate(coalition):\n",
    "            x, y = allocation[2*i], allocation[2*i + 1]\n",
    "            if x <= 0 or y <= 0:\n",
    "                return np.inf\n",
    "            ut -= utilities[agent](x, y)\n",
    "        return ut\n",
    "\n",
    "    bounds = [(1e-6, total_x if i % 2 == 0 else total_y) for i in range(2 * n)]\n",
    "    constraints = [\n",
    "        {'type': 'eq', 'fun': lambda a: total_x - sum(a[::2])},\n",
    "        {'type': 'eq', 'fun': lambda a: total_y - sum(a[1::2])}\n",
    "    ]\n",
    "    x0 = [total_x / n, total_y / n] * n\n",
    "\n",
    "    result = minimize(objective, x0, bounds=bounds, constraints=constraints)\n",
    "    return -result.fun if result.success else np.nan"
   ]
  },
  {
   "cell_type": "code",
   "execution_count": 21,
   "id": "48095f89-3353-4607-bb85-07e2f3aefd6c",
   "metadata": {},
   "outputs": [
    {
     "name": "stdout",
     "output_type": "stream",
     "text": [
      "Valores de las coaliciones:\n",
      "v[1] = 10.000\n",
      "v[2] = 3.606\n",
      "v[1, 2] = 75.050\n"
     ]
    }
   ],
   "source": [
    "# Cálculo valores de todas las coaliciones\n",
    "coalitions = {}\n",
    "N = {1, 2}\n",
    "\n",
    "for r in range(1, len(N) + 1):\n",
    "    for coalition in combinations(N, r):\n",
    "        if len(coalition) == 1:\n",
    "            coalitions[coalition] = individual_value(coalition[0])\n",
    "        else:\n",
    "            coalitions[coalition] = coalition_value(coalition)\n",
    "\n",
    "coalitions[(1, 2)] = coalition_value((1, 2))\n",
    "\n",
    "print(\"Valores de las coaliciones:\")\n",
    "for k, v in coalitions.items():\n",
    "    print(f\"v{list(k)} = {v:.3f}\")"
   ]
  },
  {
   "cell_type": "markdown",
   "id": "86db364b-c7fd-4754-81c0-ff6571e4c82c",
   "metadata": {},
   "source": [
    "Una vez obtenidos los valores de utilidad para todas las coaliciones, se calculan las contribuciones marginales por permutación."
   ]
  },
  {
   "cell_type": "code",
   "execution_count": 22,
   "id": "50b6d2de-f0d1-40d0-a47c-0f479598bed6",
   "metadata": {},
   "outputs": [
    {
     "name": "stdout",
     "output_type": "stream",
     "text": [
      "\n",
      "Tabla de contribuciones marginales por permutación:\n",
      "Jugador 1: [10, 71.44444360232609]\n",
      "Jugador 2: [65.04999487779008, 3.605551275463989]\n"
     ]
    }
   ],
   "source": [
    "# Cálculo contribuciones marginales por permutación\n",
    "def shapley_from_permutations(N, coalitions):\n",
    "    contribs = {i: [] for i in N}\n",
    "    for perm in permutations(N):\n",
    "        S = ()\n",
    "        for i in perm:\n",
    "            prev_value = coalitions.get(tuple(sorted(S)), 0)\n",
    "            S = tuple(sorted(S + (i,)))\n",
    "            new_value = coalitions.get(S, 0)\n",
    "            marginal = new_value - prev_value\n",
    "            contribs[i].append(marginal)\n",
    "    return {i: np.mean(contribs[i]) for i in N}, contribs\n",
    "\n",
    "shapley_vals, marginal_table = shapley_from_permutations(N, coalitions)\n",
    "print(\"\\nTabla de contribuciones marginales por permutación:\")\n",
    "for i in N:\n",
    "    print(f\"Jugador {i}: {marginal_table[i]}\")"
   ]
  },
  {
   "cell_type": "markdown",
   "id": "e2876028-040c-4c3c-9911-91e545c7adc3",
   "metadata": {},
   "source": [
    "Por último, se calcula el valor de Shapley para cada jugador, iterando sobre todos los subconjuntos posibles. "
   ]
  },
  {
   "cell_type": "code",
   "execution_count": 23,
   "id": "5ef0c7ae-5db3-4ab5-a68b-dc9d2900119d",
   "metadata": {},
   "outputs": [
    {
     "name": "stdout",
     "output_type": "stream",
     "text": [
      "\n",
      "Valores de Shapley:\n",
      "Jugador 1: 40.722\n",
      "Jugador 2: 34.328\n"
     ]
    }
   ],
   "source": [
    "# Cálculo del valor de Shapley\n",
    "def shapley_value(i, N, coalitions):\n",
    "    n = len(N)\n",
    "    phi = 0\n",
    "    for r in range(len(N)):\n",
    "        for S in combinations(N - {i}, r):\n",
    "            S = set(S)\n",
    "            S_with_i = tuple(sorted(S | {i}))\n",
    "            S = tuple(sorted(S))\n",
    "            coef = factorial(len(S)) * factorial(n - len(S) - 1) / factorial(n)\n",
    "            marginal = coalitions.get(S_with_i, 0) - coalitions.get(S, 0)\n",
    "            phi += coef * marginal\n",
    "    return phi\n",
    "\n",
    "print(\"\\nValores de Shapley:\")\n",
    "for i in N:\n",
    "    phi_i = shapley_value(i, N, coalitions)\n",
    "    print(f\"Jugador {i}: {phi_i:.3f}\")"
   ]
  },
  {
   "cell_type": "markdown",
   "id": "8b150955-9499-4173-be4a-5ad27db2c639",
   "metadata": {},
   "source": [
    "Además, las preferencias de los jugadores están representadas por las funciones de utilidad $v_1(x,y) = lnx + lny$ y $v_2(x,y) = \\sqrt{2x + y}$."
   ]
  },
  {
   "cell_type": "markdown",
   "id": "f73732d4-4e8f-4161-88df-76a05bab92d5",
   "metadata": {},
   "source": [
    "De manera análoga, se especifican las funciones de utilidad con su tranformación monótona creciente."
   ]
  },
  {
   "cell_type": "code",
   "execution_count": 3,
   "id": "13142f8f-a4b6-4a61-9550-8ae16deb8535",
   "metadata": {},
   "outputs": [],
   "source": [
    "# Funciones de utilidad\n",
    "def v1(x, y):\n",
    "    return np.log(x) + np.log(y)\n",
    "\n",
    "def v2(x, y):\n",
    "    return np.sqrt(2 * x + y)\n",
    "\n",
    "utilities = {1: v1, 2: v2}"
   ]
  },
  {
   "cell_type": "code",
   "execution_count": 25,
   "id": "031276e3-9b63-471c-924f-f0b7db843797",
   "metadata": {},
   "outputs": [],
   "source": [
    "# Cálculo v({j})\n",
    "def individual_value(agent):\n",
    "    x, y = endowments[agent]\n",
    "    return utilities[agent](x, y)"
   ]
  },
  {
   "cell_type": "code",
   "execution_count": 26,
   "id": "4fcda136-6ad9-4053-92de-47e0b6e80479",
   "metadata": {},
   "outputs": [],
   "source": [
    "# Cálculo v({1,2}) mediante un problema de maximización\n",
    "def coalition_value(coalition):\n",
    "    total_x = sum(endowments[i][0] for i in coalition)\n",
    "    total_y = sum(endowments[i][1] for i in coalition)\n",
    "    n = len(coalition)\n",
    "\n",
    "    def objective(alloc):\n",
    "        ut = 0\n",
    "        for i, agent in enumerate(coalition):\n",
    "            x, y = alloc[2*i], alloc[2*i + 1]\n",
    "            if x <= 0 or y <= 0:\n",
    "                return np.inf\n",
    "            ut -= utilities[agent](x, y)\n",
    "        return ut\n",
    "\n",
    "    bounds = [(1e-6, total_x if i % 2 == 0 else total_y) for i in range(2 * n)]\n",
    "    constraints = [\n",
    "        {'type': 'eq', 'fun': lambda a: total_x - sum(a[::2])},\n",
    "        {'type': 'eq', 'fun': lambda a: total_y - sum(a[1::2])}\n",
    "    ]\n",
    "    x0 = [total_x / n, total_y / n] * n\n",
    "\n",
    "    result = minimize(objective, x0, bounds=bounds, constraints=constraints)\n",
    "    return -result.fun if result.success else np.nan"
   ]
  },
  {
   "cell_type": "code",
   "execution_count": 27,
   "id": "ccd54d33-7753-4463-a50c-6ad50a5fb648",
   "metadata": {},
   "outputs": [
    {
     "name": "stdout",
     "output_type": "stream",
     "text": [
      "Valores de las coaliciones:\n",
      "v[1] = 2.303\n",
      "v[2] = 3.606\n",
      "v[1, 2] = 6.517\n"
     ]
    }
   ],
   "source": [
    "# Cálculo valores de todas las coaliciones\n",
    "coalitions = {}\n",
    "N = {1, 2}\n",
    "\n",
    "for r in range(1, len(N) + 1):\n",
    "    for coalition in combinations(N, r):\n",
    "        if len(coalition) == 1:\n",
    "            coalitions[coalition] = individual_value(coalition[0])\n",
    "        else:\n",
    "            coalitions[coalition] = coalition_value(coalition)\n",
    "\n",
    "coalitions[(1, 2)] = coalition_value((1, 2))\n",
    "\n",
    "print(\"Valores de las coaliciones:\")\n",
    "for k, v in coalitions.items():\n",
    "    print(f\"v{list(k)} = {v:.3f}\")"
   ]
  },
  {
   "cell_type": "code",
   "execution_count": 28,
   "id": "10b73f19-1c05-4cea-9595-4c18205f4360",
   "metadata": {},
   "outputs": [
    {
     "name": "stdout",
     "output_type": "stream",
     "text": [
      "\n",
      "Tabla de contribuciones marginales por permutación:\n",
      "Jugador 1: [2.302585092994046, 2.9115658902417194]\n",
      "Jugador 2: [4.214532072711663, 3.605551275463989]\n"
     ]
    }
   ],
   "source": [
    "# Cálculo contribuciones marginales por permutación\n",
    "def shapley_from_permutations(N, coalitions):\n",
    "    contribs = {i: [] for i in N}\n",
    "    for perm in permutations(N):\n",
    "        S = ()\n",
    "        for i in perm:\n",
    "            prev_value = coalitions.get(tuple(sorted(S)), 0)\n",
    "            S = tuple(sorted(S + (i,)))\n",
    "            new_value = coalitions.get(S, 0)\n",
    "            marginal = new_value - prev_value\n",
    "            contribs[i].append(marginal)\n",
    "    return {i: np.mean(contribs[i]) for i in N}, contribs\n",
    "\n",
    "shapley_vals, marginal_table = shapley_from_permutations(N, coalitions)\n",
    "print(\"\\nTabla de contribuciones marginales por permutación:\")\n",
    "for i in N:\n",
    "    print(f\"Jugador {i}: {marginal_table[i]}\")"
   ]
  },
  {
   "cell_type": "code",
   "execution_count": 29,
   "id": "373b60e1-62ae-4929-b1c5-91efa1093959",
   "metadata": {},
   "outputs": [
    {
     "name": "stdout",
     "output_type": "stream",
     "text": [
      "\n",
      "Valores de Shapley:\n",
      "Jugador 1: 2.607\n",
      "Jugador 2: 3.910\n"
     ]
    }
   ],
   "source": [
    "# Cálculo del valor de Shapley\n",
    "def shapley_value(i, N, coalitions):\n",
    "    n = len(N)\n",
    "    phi = 0\n",
    "    for r in range(len(N)):\n",
    "        for S in combinations(N - {i}, r):\n",
    "            S = set(S)\n",
    "            S_with_i = tuple(sorted(S | {i}))\n",
    "            S = tuple(sorted(S))\n",
    "            coef = factorial(len(S)) * factorial(n - len(S) - 1) / factorial(n)\n",
    "            marginal = coalitions.get(S_with_i, 0) - coalitions.get(S, 0)\n",
    "            phi += coef * marginal\n",
    "    return phi\n",
    "\n",
    "print(\"\\nValores de Shapley:\")\n",
    "for i in N:\n",
    "    phi_i = shapley_value(i, N, coalitions)\n",
    "    print(f\"Jugador {i}: {phi_i:.3f}\")"
   ]
  }
 ],
 "metadata": {
  "kernelspec": {
   "display_name": "Python [conda env:base] *",
   "language": "python",
   "name": "conda-base-py"
  },
  "language_info": {
   "codemirror_mode": {
    "name": "ipython",
    "version": 3
   },
   "file_extension": ".py",
   "mimetype": "text/x-python",
   "name": "python",
   "nbconvert_exporter": "python",
   "pygments_lexer": "ipython3",
   "version": "3.12.7"
  }
 },
 "nbformat": 4,
 "nbformat_minor": 5
}
